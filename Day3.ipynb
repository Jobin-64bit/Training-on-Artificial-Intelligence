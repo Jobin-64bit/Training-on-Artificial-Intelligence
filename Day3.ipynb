{
  "nbformat": 4,
  "nbformat_minor": 0,
  "metadata": {
    "colab": {
      "name": "Day3.ipynb",
      "provenance": [],
      "collapsed_sections": []
    },
    "kernelspec": {
      "name": "python3",
      "display_name": "Python 3"
    }
  },
  "cells": [
    {
      "cell_type": "code",
      "metadata": {
        "id": "ajingp63r6fE",
        "colab_type": "code",
        "colab": {}
      },
      "source": [
        "x=10"
      ],
      "execution_count": 0,
      "outputs": []
    },
    {
      "cell_type": "code",
      "metadata": {
        "id": "KObJlwRi8O8w",
        "colab_type": "code",
        "colab": {}
      },
      "source": [
        "def sum():\n",
        "  x=15\n",
        "  y=10\n",
        "  z=x+y\n",
        "  print(\"Answer = \", z)"
      ],
      "execution_count": 0,
      "outputs": []
    },
    {
      "cell_type": "code",
      "metadata": {
        "id": "aQu8vKpcs-ex",
        "colab_type": "code",
        "colab": {}
      },
      "source": [
        "y=20"
      ],
      "execution_count": 0,
      "outputs": []
    },
    {
      "cell_type": "code",
      "metadata": {
        "id": "eCvTWX67s_TY",
        "colab_type": "code",
        "colab": {}
      },
      "source": [
        "z=x+y"
      ],
      "execution_count": 0,
      "outputs": []
    },
    {
      "cell_type": "code",
      "metadata": {
        "id": "JKadDdM5tAN8",
        "colab_type": "code",
        "outputId": "b2c4e3e0-deb0-4ddb-86be-92c3cd299055",
        "colab": {
          "base_uri": "https://localhost:8080/",
          "height": 34
        }
      },
      "source": [
        "print(z)"
      ],
      "execution_count": 0,
      "outputs": [
        {
          "output_type": "stream",
          "text": [
            "30\n"
          ],
          "name": "stdout"
        }
      ]
    },
    {
      "cell_type": "code",
      "metadata": {
        "id": "Q6dE1z3mtB7C",
        "colab_type": "code",
        "outputId": "d964f68d-9e56-4235-c308-b8d89152bd20",
        "colab": {
          "base_uri": "https://localhost:8080/",
          "height": 52
        }
      },
      "source": [
        "speed=int(input(\"Enter the speed\"))\n",
        "if speed>60 :\n",
        "  print(\"it is Over speed\")\n",
        "if speed<60 :\n",
        "  print(\"it is Normal speed\")"
      ],
      "execution_count": 0,
      "outputs": [
        {
          "output_type": "stream",
          "text": [
            "Enter the speed5\n",
            "it is Normal speed\n"
          ],
          "name": "stdout"
        }
      ]
    },
    {
      "cell_type": "code",
      "metadata": {
        "id": "tESFkCn5uFPi",
        "colab_type": "code",
        "outputId": "5612ea8f-ff32-4ea6-98a7-bcb5cad0ca4e",
        "colab": {
          "base_uri": "https://localhost:8080/",
          "height": 70
        }
      },
      "source": [
        "P=int(input(\"enter the purchase amount\"))\n",
        "print(\"You have purchased for  Rs \", P)\n",
        "if P>10000 :\n",
        "  bill= P - (P*(30/100))\n",
        "  print(\"Congrats, your discounted bill is  Rs \", bill)\n",
        "if 5000<P<10000 :\n",
        "  bill= P - (P*(20/100))\n",
        "  print(\"Congrats, your discounted bill is  Rs \", bill)\n",
        "if 0<P<5000 :\n",
        "  bill= P - (P*(10/100))\n",
        "  print(\"Congrats, your discounted bill is  Rs \", bill)"
      ],
      "execution_count": 0,
      "outputs": [
        {
          "output_type": "stream",
          "text": [
            "enter the purchase amount7000\n",
            "You have purchased for  Rs  7000\n",
            "Congrats, your discounted bill is  Rs  5600.0\n"
          ],
          "name": "stdout"
        }
      ]
    },
    {
      "cell_type": "code",
      "metadata": {
        "id": "j0TbSR1qwqkr",
        "colab_type": "code",
        "colab": {}
      },
      "source": [
        "z1=[\"Muhammed\",  \"john\", \"adam\",\"Raghavan\",\"jacob\"]"
      ],
      "execution_count": 0,
      "outputs": []
    },
    {
      "cell_type": "code",
      "metadata": {
        "id": "exT9vUC7y7r4",
        "colab_type": "code",
        "outputId": "11da9796-9bfe-49e8-8398-d7c55e2aaef6",
        "colab": {
          "base_uri": "https://localhost:8080/",
          "height": 34
        }
      },
      "source": [
        "z1[0]"
      ],
      "execution_count": 0,
      "outputs": [
        {
          "output_type": "execute_result",
          "data": {
            "text/plain": [
              "'Muhammed'"
            ]
          },
          "metadata": {
            "tags": []
          },
          "execution_count": 29
        }
      ]
    },
    {
      "cell_type": "code",
      "metadata": {
        "id": "O7G8qEhIzxzd",
        "colab_type": "code",
        "outputId": "01687ff8-ebb3-487c-baa0-c45dfe61519b",
        "colab": {
          "base_uri": "https://localhost:8080/",
          "height": 34
        }
      },
      "source": [
        "z1[1]"
      ],
      "execution_count": 0,
      "outputs": [
        {
          "output_type": "execute_result",
          "data": {
            "text/plain": [
              "'john'"
            ]
          },
          "metadata": {
            "tags": []
          },
          "execution_count": 30
        }
      ]
    },
    {
      "cell_type": "code",
      "metadata": {
        "id": "qOSb-t2iz84U",
        "colab_type": "code",
        "outputId": "2592bf79-80c6-474f-ffe9-a14ddcb8138a",
        "colab": {
          "base_uri": "https://localhost:8080/",
          "height": 34
        }
      },
      "source": [
        "z1[2]"
      ],
      "execution_count": 0,
      "outputs": [
        {
          "output_type": "execute_result",
          "data": {
            "text/plain": [
              "'adam'"
            ]
          },
          "metadata": {
            "tags": []
          },
          "execution_count": 31
        }
      ]
    },
    {
      "cell_type": "code",
      "metadata": {
        "id": "uVLf8YNOz_AI",
        "colab_type": "code",
        "outputId": "15379062-cc38-4d17-bfd1-2c2e29a79188",
        "colab": {
          "base_uri": "https://localhost:8080/",
          "height": 34
        }
      },
      "source": [
        "z1[4]"
      ],
      "execution_count": 0,
      "outputs": [
        {
          "output_type": "execute_result",
          "data": {
            "text/plain": [
              "'jacob'"
            ]
          },
          "metadata": {
            "tags": []
          },
          "execution_count": 32
        }
      ]
    },
    {
      "cell_type": "code",
      "metadata": {
        "id": "0y0WRfee0Aqp",
        "colab_type": "code",
        "colab": {}
      },
      "source": [
        "z1=[\"Muhammed\",  \"john\", \"adam\",\"Raghavan\",\"jacob\"]"
      ],
      "execution_count": 0,
      "outputs": []
    },
    {
      "cell_type": "code",
      "metadata": {
        "id": "Ol5oPrUr0Vas",
        "colab_type": "code",
        "outputId": "97fd8eaa-754e-4c47-fed2-a9675d7baa8a",
        "colab": {
          "base_uri": "https://localhost:8080/",
          "height": 34
        }
      },
      "source": [
        "z1[0]"
      ],
      "execution_count": 0,
      "outputs": [
        {
          "output_type": "execute_result",
          "data": {
            "text/plain": [
              "'Muhammed'"
            ]
          },
          "metadata": {
            "tags": []
          },
          "execution_count": 34
        }
      ]
    },
    {
      "cell_type": "code",
      "metadata": {
        "id": "Kt_XXzvO0Z-a",
        "colab_type": "code",
        "outputId": "dfc69ac9-d5c8-4214-be9b-b0c1e3c273bf",
        "colab": {
          "base_uri": "https://localhost:8080/",
          "height": 34
        }
      },
      "source": [
        "z1[0:2]"
      ],
      "execution_count": 0,
      "outputs": [
        {
          "output_type": "execute_result",
          "data": {
            "text/plain": [
              "['Muhammed', 'john']"
            ]
          },
          "metadata": {
            "tags": []
          },
          "execution_count": 35
        }
      ]
    },
    {
      "cell_type": "code",
      "metadata": {
        "id": "mkDgBNJJ0f4U",
        "colab_type": "code",
        "outputId": "b97307f9-7cca-4674-897e-fa383c7aead5",
        "colab": {
          "base_uri": "https://localhost:8080/",
          "height": 34
        }
      },
      "source": [
        "z1[0:4]"
      ],
      "execution_count": 0,
      "outputs": [
        {
          "output_type": "execute_result",
          "data": {
            "text/plain": [
              "['Muhammed', 'john', 'adam', 'Raghavan']"
            ]
          },
          "metadata": {
            "tags": []
          },
          "execution_count": 36
        }
      ]
    },
    {
      "cell_type": "code",
      "metadata": {
        "id": "bmvpY9DJ0lWV",
        "colab_type": "code",
        "outputId": "c188cf74-4b3d-43bd-a1b5-4d97202827b9",
        "colab": {
          "base_uri": "https://localhost:8080/",
          "height": 34
        }
      },
      "source": [
        "z1[-2]"
      ],
      "execution_count": 0,
      "outputs": [
        {
          "output_type": "execute_result",
          "data": {
            "text/plain": [
              "'Raghavan'"
            ]
          },
          "metadata": {
            "tags": []
          },
          "execution_count": 38
        }
      ]
    },
    {
      "cell_type": "code",
      "metadata": {
        "id": "RUyBKVKO0qcn",
        "colab_type": "code",
        "colab": {}
      },
      "source": [
        "plus2=[30,50,40,20,45,35]"
      ],
      "execution_count": 0,
      "outputs": []
    },
    {
      "cell_type": "code",
      "metadata": {
        "id": "vVOdjh3f09S7",
        "colab_type": "code",
        "outputId": "f4180eec-72b0-4e5d-f9e6-70b967de1b5b",
        "colab": {
          "base_uri": "https://localhost:8080/",
          "height": 34
        }
      },
      "source": [
        "plus2[0:3]"
      ],
      "execution_count": 0,
      "outputs": [
        {
          "output_type": "execute_result",
          "data": {
            "text/plain": [
              "[30, 50, 40]"
            ]
          },
          "metadata": {
            "tags": []
          },
          "execution_count": 40
        }
      ]
    },
    {
      "cell_type": "code",
      "metadata": {
        "id": "pvEgsTRs1HRR",
        "colab_type": "code",
        "outputId": "ded159b4-412c-4935-f5a4-5e6e00ea9a23",
        "colab": {
          "base_uri": "https://localhost:8080/",
          "height": 34
        }
      },
      "source": [
        "plus2[0]+plus2[1]+plus2[2]"
      ],
      "execution_count": 0,
      "outputs": [
        {
          "output_type": "execute_result",
          "data": {
            "text/plain": [
              "120"
            ]
          },
          "metadata": {
            "tags": []
          },
          "execution_count": 41
        }
      ]
    },
    {
      "cell_type": "code",
      "metadata": {
        "id": "Qnxx014b1QYv",
        "colab_type": "code",
        "outputId": "b1031127-2009-416b-8fd2-b927f6009737",
        "colab": {
          "base_uri": "https://localhost:8080/",
          "height": 34
        }
      },
      "source": [
        "sum(plus2)"
      ],
      "execution_count": 0,
      "outputs": [
        {
          "output_type": "execute_result",
          "data": {
            "text/plain": [
              "220"
            ]
          },
          "metadata": {
            "tags": []
          },
          "execution_count": 42
        }
      ]
    },
    {
      "cell_type": "code",
      "metadata": {
        "id": "DEQ8hXJI1ZL5",
        "colab_type": "code",
        "outputId": "fe9c9b13-272c-4833-8043-6a80f65aaecf",
        "colab": {
          "base_uri": "https://localhost:8080/",
          "height": 34
        }
      },
      "source": [
        "sum(plus2[0:3])"
      ],
      "execution_count": 0,
      "outputs": [
        {
          "output_type": "execute_result",
          "data": {
            "text/plain": [
              "120"
            ]
          },
          "metadata": {
            "tags": []
          },
          "execution_count": 43
        }
      ]
    },
    {
      "cell_type": "code",
      "metadata": {
        "id": "7_3OVuJW1crJ",
        "colab_type": "code",
        "colab": {}
      },
      "source": [
        "x=\"india is my country\""
      ],
      "execution_count": 0,
      "outputs": []
    },
    {
      "cell_type": "code",
      "metadata": {
        "id": "7QxSP4KH1-ir",
        "colab_type": "code",
        "outputId": "91371e2a-d642-4adc-a00f-6801dd4a4bef",
        "colab": {
          "base_uri": "https://localhost:8080/",
          "height": 34
        }
      },
      "source": [
        "x.capitalize()"
      ],
      "execution_count": 0,
      "outputs": [
        {
          "output_type": "execute_result",
          "data": {
            "text/plain": [
              "'India is my country'"
            ]
          },
          "metadata": {
            "tags": []
          },
          "execution_count": 46
        }
      ]
    },
    {
      "cell_type": "code",
      "metadata": {
        "id": "7NyP7aaw2FGs",
        "colab_type": "code",
        "outputId": "f1dcfd57-f6a8-4c65-893f-29d7dc4f35b0",
        "colab": {
          "base_uri": "https://localhost:8080/",
          "height": 34
        }
      },
      "source": [
        "x[0:5]"
      ],
      "execution_count": 0,
      "outputs": [
        {
          "output_type": "execute_result",
          "data": {
            "text/plain": [
              "'india'"
            ]
          },
          "metadata": {
            "tags": []
          },
          "execution_count": 47
        }
      ]
    },
    {
      "cell_type": "code",
      "metadata": {
        "id": "gD6QRjIJ2Nph",
        "colab_type": "code",
        "outputId": "5b3e705a-bf2f-4b53-ef51-c9f0172fa48f",
        "colab": {
          "base_uri": "https://localhost:8080/",
          "height": 34
        }
      },
      "source": [
        "x[-1]"
      ],
      "execution_count": 0,
      "outputs": [
        {
          "output_type": "execute_result",
          "data": {
            "text/plain": [
              "'y'"
            ]
          },
          "metadata": {
            "tags": []
          },
          "execution_count": 48
        }
      ]
    },
    {
      "cell_type": "code",
      "metadata": {
        "id": "_RXIUeYN2S5F",
        "colab_type": "code",
        "colab": {}
      },
      "source": [
        "x=\"india is my country\""
      ],
      "execution_count": 0,
      "outputs": []
    },
    {
      "cell_type": "code",
      "metadata": {
        "id": "5Gj_JRG52Y7M",
        "colab_type": "code",
        "outputId": "7589aa14-729d-420a-fdd3-da3fbf703b8b",
        "colab": {
          "base_uri": "https://localhost:8080/",
          "height": 34
        }
      },
      "source": [
        "x.strip()"
      ],
      "execution_count": 0,
      "outputs": [
        {
          "output_type": "execute_result",
          "data": {
            "text/plain": [
              "'india is my country'"
            ]
          },
          "metadata": {
            "tags": []
          },
          "execution_count": 50
        }
      ]
    },
    {
      "cell_type": "code",
      "metadata": {
        "id": "dff-ldXP2bYX",
        "colab_type": "code",
        "colab": {}
      },
      "source": [
        "x=\"INDIA\""
      ],
      "execution_count": 0,
      "outputs": []
    },
    {
      "cell_type": "code",
      "metadata": {
        "id": "PTgPyqKk2gQF",
        "colab_type": "code",
        "outputId": "a917355e-92b8-43a7-b0c5-225ecc8b66c1",
        "colab": {
          "base_uri": "https://localhost:8080/",
          "height": 34
        }
      },
      "source": [
        "x.lower()"
      ],
      "execution_count": 0,
      "outputs": [
        {
          "output_type": "execute_result",
          "data": {
            "text/plain": [
              "'india'"
            ]
          },
          "metadata": {
            "tags": []
          },
          "execution_count": 52
        }
      ]
    },
    {
      "cell_type": "code",
      "metadata": {
        "id": "ImeCbxz62kID",
        "colab_type": "code",
        "outputId": "7df78e3e-067a-40ee-b96d-cc988069db0c",
        "colab": {
          "base_uri": "https://localhost:8080/",
          "height": 34
        }
      },
      "source": [
        "x.upper()"
      ],
      "execution_count": 0,
      "outputs": [
        {
          "output_type": "execute_result",
          "data": {
            "text/plain": [
              "'INDIA'"
            ]
          },
          "metadata": {
            "tags": []
          },
          "execution_count": 53
        }
      ]
    },
    {
      "cell_type": "code",
      "metadata": {
        "id": "RfZXTutH2oLX",
        "colab_type": "code",
        "colab": {}
      },
      "source": [
        "x= \"Indian is my country\""
      ],
      "execution_count": 0,
      "outputs": []
    },
    {
      "cell_type": "code",
      "metadata": {
        "id": "Kq0l20o42tcg",
        "colab_type": "code",
        "colab": {}
      },
      "source": [
        "a=x.count(\"Indian is my country\")"
      ],
      "execution_count": 0,
      "outputs": []
    },
    {
      "cell_type": "code",
      "metadata": {
        "id": "Tmm7M_vA2u8z",
        "colab_type": "code",
        "outputId": "08bfb9e6-ba79-4609-e838-358c644567ce",
        "colab": {
          "base_uri": "https://localhost:8080/",
          "height": 34
        }
      },
      "source": [
        "a"
      ],
      "execution_count": 0,
      "outputs": [
        {
          "output_type": "execute_result",
          "data": {
            "text/plain": [
              "1"
            ]
          },
          "metadata": {
            "tags": []
          },
          "execution_count": 57
        }
      ]
    },
    {
      "cell_type": "code",
      "metadata": {
        "id": "1QP5rM9F23Oi",
        "colab_type": "code",
        "colab": {}
      },
      "source": [
        "x=\"india is my country\""
      ],
      "execution_count": 0,
      "outputs": []
    },
    {
      "cell_type": "code",
      "metadata": {
        "id": "HWs7iK1A3Gi8",
        "colab_type": "code",
        "outputId": "14def0c6-9d78-46d9-b3be-ae8f2a84caf8",
        "colab": {
          "base_uri": "https://localhost:8080/",
          "height": 34
        }
      },
      "source": [
        "x.split()"
      ],
      "execution_count": 0,
      "outputs": [
        {
          "output_type": "execute_result",
          "data": {
            "text/plain": [
              "['india', 'is', 'my', 'country']"
            ]
          },
          "metadata": {
            "tags": []
          },
          "execution_count": 59
        }
      ]
    },
    {
      "cell_type": "code",
      "metadata": {
        "id": "sW4Mv-vw3I63",
        "colab_type": "code",
        "colab": {}
      },
      "source": [
        "x=\"india is my country\""
      ],
      "execution_count": 0,
      "outputs": []
    },
    {
      "cell_type": "code",
      "metadata": {
        "id": "j9upNMYz32GN",
        "colab_type": "code",
        "outputId": "744f778d-479e-46c5-fd1b-94985f9b9976",
        "colab": {
          "base_uri": "https://localhost:8080/",
          "height": 34
        }
      },
      "source": [
        "x+x"
      ],
      "execution_count": 0,
      "outputs": [
        {
          "output_type": "execute_result",
          "data": {
            "text/plain": [
              "'india is my countryindia is my country'"
            ]
          },
          "metadata": {
            "tags": []
          },
          "execution_count": 61
        }
      ]
    },
    {
      "cell_type": "code",
      "metadata": {
        "id": "Kf3sGwaM33Sq",
        "colab_type": "code",
        "outputId": "d0590259-17ba-48ac-c6d6-7684a1cb6f13",
        "colab": {
          "base_uri": "https://localhost:8080/",
          "height": 34
        }
      },
      "source": [
        "x*3"
      ],
      "execution_count": 0,
      "outputs": [
        {
          "output_type": "execute_result",
          "data": {
            "text/plain": [
              "'india is my countryindia is my countryindia is my country'"
            ]
          },
          "metadata": {
            "tags": []
          },
          "execution_count": 62
        }
      ]
    },
    {
      "cell_type": "code",
      "metadata": {
        "id": "eFuZptGC39yB",
        "colab_type": "code",
        "outputId": "57b554e5-8089-4af7-95d9-434b1b4e84e3",
        "colab": {
          "base_uri": "https://localhost:8080/",
          "height": 170
        }
      },
      "source": [
        "x/2"
      ],
      "execution_count": 0,
      "outputs": [
        {
          "output_type": "error",
          "ename": "TypeError",
          "evalue": "ignored",
          "traceback": [
            "\u001b[0;31m---------------------------------------------------------------------------\u001b[0m",
            "\u001b[0;31mTypeError\u001b[0m                                 Traceback (most recent call last)",
            "\u001b[0;32m<ipython-input-63-a9af5bba98c4>\u001b[0m in \u001b[0;36m<module>\u001b[0;34m()\u001b[0m\n\u001b[0;32m----> 1\u001b[0;31m \u001b[0mx\u001b[0m\u001b[0;34m/\u001b[0m\u001b[0;36m2\u001b[0m\u001b[0;34m\u001b[0m\u001b[0;34m\u001b[0m\u001b[0m\n\u001b[0m",
            "\u001b[0;31mTypeError\u001b[0m: unsupported operand type(s) for /: 'str' and 'int'"
          ]
        }
      ]
    },
    {
      "cell_type": "code",
      "metadata": {
        "id": "wwxjSx8N4HO-",
        "colab_type": "code",
        "colab": {}
      },
      "source": [
        "x=25"
      ],
      "execution_count": 0,
      "outputs": []
    },
    {
      "cell_type": "code",
      "metadata": {
        "id": "Zzf-SzCp4tzr",
        "colab_type": "code",
        "outputId": "14fb6040-97cc-42da-d17c-cc57014b3b51",
        "colab": {
          "base_uri": "https://localhost:8080/",
          "height": 457
        }
      },
      "source": [
        "while x<50 :\n",
        "  print(\"Value of x = \",x)\n",
        "  x=x+1"
      ],
      "execution_count": 0,
      "outputs": [
        {
          "output_type": "stream",
          "text": [
            "Value of x =  25\n",
            "Value of x =  26\n",
            "Value of x =  27\n",
            "Value of x =  28\n",
            "Value of x =  29\n",
            "Value of x =  30\n",
            "Value of x =  31\n",
            "Value of x =  32\n",
            "Value of x =  33\n",
            "Value of x =  34\n",
            "Value of x =  35\n",
            "Value of x =  36\n",
            "Value of x =  37\n",
            "Value of x =  38\n",
            "Value of x =  39\n",
            "Value of x =  40\n",
            "Value of x =  41\n",
            "Value of x =  42\n",
            "Value of x =  43\n",
            "Value of x =  44\n",
            "Value of x =  45\n",
            "Value of x =  46\n",
            "Value of x =  47\n",
            "Value of x =  48\n",
            "Value of x =  49\n"
          ],
          "name": "stdout"
        }
      ]
    },
    {
      "cell_type": "code",
      "metadata": {
        "id": "HbkEoQyW5RRh",
        "colab_type": "code",
        "outputId": "4b74794a-72b2-4d9b-df97-8bf66d80b9c0",
        "colab": {
          "base_uri": "https://localhost:8080/",
          "height": 34
        }
      },
      "source": [
        "x=10\n",
        "while x>0 :\n",
        "  if x==5:\n",
        "    print(x)\n",
        "  x=x-1"
      ],
      "execution_count": 0,
      "outputs": [
        {
          "output_type": "stream",
          "text": [
            "5\n"
          ],
          "name": "stdout"
        }
      ]
    },
    {
      "cell_type": "code",
      "metadata": {
        "id": "MNbz_NjX5dmg",
        "colab_type": "code",
        "outputId": "7f6af25e-7c88-441b-8b19-291d1276c8f4",
        "colab": {
          "base_uri": "https://localhost:8080/",
          "height": 70
        }
      },
      "source": [
        "tea=int(input('Enter price of Tea'))\n",
        "num=int(input('Enter number of Tea'))\n",
        "cost=num*tea\n",
        "print(\"price =\", cost)"
      ],
      "execution_count": 0,
      "outputs": [
        {
          "output_type": "stream",
          "text": [
            "Enter price of Tea6\n",
            "Enter number of Tea25\n",
            "price = 150\n"
          ],
          "name": "stdout"
        }
      ]
    },
    {
      "cell_type": "code",
      "metadata": {
        "id": "vMH4PDIc62MG",
        "colab_type": "code",
        "colab": {}
      },
      "source": [
        "def sarin():\n",
        "  tea=int(input('Enter price of Tea'))\n",
        "  num=int(input('Enter number of Tea'))\n",
        "  cost=num*tea\n",
        "  print(\"price =\", cost)"
      ],
      "execution_count": 0,
      "outputs": []
    },
    {
      "cell_type": "code",
      "metadata": {
        "id": "uOqyWqGH7o-D",
        "colab_type": "code",
        "outputId": "43a88e5c-29e9-4bd9-c564-38f7a379bc53",
        "colab": {
          "base_uri": "https://localhost:8080/",
          "height": 70
        }
      },
      "source": [
        "sarin()"
      ],
      "execution_count": 0,
      "outputs": [
        {
          "output_type": "stream",
          "text": [
            "Enter price of Tea6\n",
            "Enter number of Tea3\n",
            "price = 18\n"
          ],
          "name": "stdout"
        }
      ]
    },
    {
      "cell_type": "code",
      "metadata": {
        "id": "lPc2RYdj7q7_",
        "colab_type": "code",
        "outputId": "6c55a7c9-4f8a-48aa-8177-d412327d45f9",
        "colab": {
          "base_uri": "https://localhost:8080/",
          "height": 70
        }
      },
      "source": [
        "sarin()"
      ],
      "execution_count": 0,
      "outputs": [
        {
          "output_type": "stream",
          "text": [
            "Enter price of Tea4\n",
            "Enter number of Tea25\n",
            "price = 100\n"
          ],
          "name": "stdout"
        }
      ]
    },
    {
      "cell_type": "code",
      "metadata": {
        "id": "YjbroGX-7vh4",
        "colab_type": "code",
        "outputId": "b9881790-8867-4964-faf8-5f67598f89ca",
        "colab": {
          "base_uri": "https://localhost:8080/",
          "height": 34
        }
      },
      "source": [
        "x=10\n",
        "y=20\n",
        "z=x+y\n",
        "print(\"Answer = \", z)"
      ],
      "execution_count": 0,
      "outputs": [
        {
          "output_type": "stream",
          "text": [
            "Answer =  30\n"
          ],
          "name": "stdout"
        }
      ]
    },
    {
      "cell_type": "code",
      "metadata": {
        "id": "43k1Bil_7-XR",
        "colab_type": "code",
        "colab": {}
      },
      "source": [
        ""
      ],
      "execution_count": 0,
      "outputs": []
    },
    {
      "cell_type": "code",
      "metadata": {
        "id": "iB_xt13C8JVC",
        "colab_type": "code",
        "outputId": "abcee607-0476-4e2b-baae-a516dbca026d",
        "colab": {
          "base_uri": "https://localhost:8080/",
          "height": 34
        }
      },
      "source": [
        "sum()"
      ],
      "execution_count": 0,
      "outputs": [
        {
          "output_type": "stream",
          "text": [
            "Answer =  25\n"
          ],
          "name": "stdout"
        }
      ]
    },
    {
      "cell_type": "code",
      "metadata": {
        "id": "sRY_77bA8LET",
        "colab_type": "code",
        "colab": {}
      },
      "source": [
        "def kannur(x,y):\n",
        "  z=x+y\n",
        "  print(\"Answer = \", z)"
      ],
      "execution_count": 0,
      "outputs": []
    },
    {
      "cell_type": "code",
      "metadata": {
        "id": "lEqQbgpZ8ozw",
        "colab_type": "code",
        "outputId": "502c1ebe-c93e-4bae-ff26-1991d8be8e35",
        "colab": {
          "base_uri": "https://localhost:8080/",
          "height": 70
        }
      },
      "source": [
        "  kannur(10,20)"
      ],
      "execution_count": 0,
      "outputs": [
        {
          "output_type": "stream",
          "text": [
            "Enter first number6\n",
            "Enter second number7\n",
            "Answer =  13\n"
          ],
          "name": "stdout"
        }
      ]
    },
    {
      "cell_type": "code",
      "metadata": {
        "id": "y_YAfCUp8qH3",
        "colab_type": "code",
        "colab": {}
      },
      "source": [
        "def sum(x,y):\n",
        "  z=x+y\n",
        "  return z"
      ],
      "execution_count": 0,
      "outputs": []
    },
    {
      "cell_type": "code",
      "metadata": {
        "id": "ZkgtISkU9edA",
        "colab_type": "code",
        "outputId": "e6924d3a-d220-4ca3-cb19-8bba4d04a694",
        "colab": {
          "base_uri": "https://localhost:8080/",
          "height": 34
        }
      },
      "source": [
        "print(\"Result is \", sum(10,20))"
      ],
      "execution_count": 0,
      "outputs": [
        {
          "output_type": "stream",
          "text": [
            "Result is  30\n"
          ],
          "name": "stdout"
        }
      ]
    },
    {
      "cell_type": "code",
      "metadata": {
        "id": "7W76GUJN9f-o",
        "colab_type": "code",
        "outputId": "c99bd4d9-2107-4666-a4a5-e1674418d497",
        "colab": {
          "base_uri": "https://localhost:8080/",
          "height": 193
        }
      },
      "source": [
        "for p in range(0,10):\n",
        "  print(\"Value of P is =\", p)"
      ],
      "execution_count": 0,
      "outputs": [
        {
          "output_type": "stream",
          "text": [
            "Value of P is = 0\n",
            "Value of P is = 1\n",
            "Value of P is = 2\n",
            "Value of P is = 3\n",
            "Value of P is = 4\n",
            "Value of P is = 5\n",
            "Value of P is = 6\n",
            "Value of P is = 7\n",
            "Value of P is = 8\n",
            "Value of P is = 9\n"
          ],
          "name": "stdout"
        }
      ]
    },
    {
      "cell_type": "code",
      "metadata": {
        "id": "Wbv6p5m8_Vv5",
        "colab_type": "code",
        "outputId": "7a489ac9-5841-4e6a-cd8c-5c1683b02d22",
        "colab": {
          "base_uri": "https://localhost:8080/",
          "height": 1000
        }
      },
      "source": [
        "for p in range(100,200):\n",
        "  print(\"Value of P is =\", p)"
      ],
      "execution_count": 0,
      "outputs": [
        {
          "output_type": "stream",
          "text": [
            "Value of P is = 100\n",
            "Value of P is = 101\n",
            "Value of P is = 102\n",
            "Value of P is = 103\n",
            "Value of P is = 104\n",
            "Value of P is = 105\n",
            "Value of P is = 106\n",
            "Value of P is = 107\n",
            "Value of P is = 108\n",
            "Value of P is = 109\n",
            "Value of P is = 110\n",
            "Value of P is = 111\n",
            "Value of P is = 112\n",
            "Value of P is = 113\n",
            "Value of P is = 114\n",
            "Value of P is = 115\n",
            "Value of P is = 116\n",
            "Value of P is = 117\n",
            "Value of P is = 118\n",
            "Value of P is = 119\n",
            "Value of P is = 120\n",
            "Value of P is = 121\n",
            "Value of P is = 122\n",
            "Value of P is = 123\n",
            "Value of P is = 124\n",
            "Value of P is = 125\n",
            "Value of P is = 126\n",
            "Value of P is = 127\n",
            "Value of P is = 128\n",
            "Value of P is = 129\n",
            "Value of P is = 130\n",
            "Value of P is = 131\n",
            "Value of P is = 132\n",
            "Value of P is = 133\n",
            "Value of P is = 134\n",
            "Value of P is = 135\n",
            "Value of P is = 136\n",
            "Value of P is = 137\n",
            "Value of P is = 138\n",
            "Value of P is = 139\n",
            "Value of P is = 140\n",
            "Value of P is = 141\n",
            "Value of P is = 142\n",
            "Value of P is = 143\n",
            "Value of P is = 144\n",
            "Value of P is = 145\n",
            "Value of P is = 146\n",
            "Value of P is = 147\n",
            "Value of P is = 148\n",
            "Value of P is = 149\n",
            "Value of P is = 150\n",
            "Value of P is = 151\n",
            "Value of P is = 152\n",
            "Value of P is = 153\n",
            "Value of P is = 154\n",
            "Value of P is = 155\n",
            "Value of P is = 156\n",
            "Value of P is = 157\n",
            "Value of P is = 158\n",
            "Value of P is = 159\n",
            "Value of P is = 160\n",
            "Value of P is = 161\n",
            "Value of P is = 162\n",
            "Value of P is = 163\n",
            "Value of P is = 164\n",
            "Value of P is = 165\n",
            "Value of P is = 166\n",
            "Value of P is = 167\n",
            "Value of P is = 168\n",
            "Value of P is = 169\n",
            "Value of P is = 170\n",
            "Value of P is = 171\n",
            "Value of P is = 172\n",
            "Value of P is = 173\n",
            "Value of P is = 174\n",
            "Value of P is = 175\n",
            "Value of P is = 176\n",
            "Value of P is = 177\n",
            "Value of P is = 178\n",
            "Value of P is = 179\n",
            "Value of P is = 180\n",
            "Value of P is = 181\n",
            "Value of P is = 182\n",
            "Value of P is = 183\n",
            "Value of P is = 184\n",
            "Value of P is = 185\n",
            "Value of P is = 186\n",
            "Value of P is = 187\n",
            "Value of P is = 188\n",
            "Value of P is = 189\n",
            "Value of P is = 190\n",
            "Value of P is = 191\n",
            "Value of P is = 192\n",
            "Value of P is = 193\n",
            "Value of P is = 194\n",
            "Value of P is = 195\n",
            "Value of P is = 196\n",
            "Value of P is = 197\n",
            "Value of P is = 198\n",
            "Value of P is = 199\n"
          ],
          "name": "stdout"
        }
      ]
    },
    {
      "cell_type": "code",
      "metadata": {
        "id": "LG1DMM14_f-u",
        "colab_type": "code",
        "outputId": "22b892dd-dcf6-473d-f380-ee53753feecb",
        "colab": {
          "base_uri": "https://localhost:8080/",
          "height": 34
        }
      },
      "source": [
        "kannur=0\n",
        "for p in range(0,101):\n",
        "  kannur=kannur+p\n",
        "print(\"Result of sum of 1 -100 =\", kannur)"
      ],
      "execution_count": 0,
      "outputs": [
        {
          "output_type": "stream",
          "text": [
            "Result of sum of 1 -100 = 5050\n"
          ],
          "name": "stdout"
        }
      ]
    },
    {
      "cell_type": "code",
      "metadata": {
        "id": "iQqgcnUGABwF",
        "colab_type": "code",
        "colab": {}
      },
      "source": [
        "x=[\"adam\",\"john\", \"raghu\", \"afsal\", \"vijay\"]"
      ],
      "execution_count": 0,
      "outputs": []
    },
    {
      "cell_type": "code",
      "metadata": {
        "id": "tGxQ12-gAln3",
        "colab_type": "code",
        "outputId": "b7bda70c-2d30-428b-f183-fcecda622b2c",
        "colab": {
          "base_uri": "https://localhost:8080/",
          "height": 105
        }
      },
      "source": [
        "for p in x :\n",
        "  print(\"Name in the list is = \", p)"
      ],
      "execution_count": 0,
      "outputs": [
        {
          "output_type": "stream",
          "text": [
            "Name in the list is =  adam\n",
            "Name in the list is =  john\n",
            "Name in the list is =  raghu\n",
            "Name in the list is =  afsal\n",
            "Name in the list is =  vijay\n"
          ],
          "name": "stdout"
        }
      ]
    },
    {
      "cell_type": "code",
      "metadata": {
        "id": "AaxHlT32AzfI",
        "colab_type": "code",
        "colab": {}
      },
      "source": [
        ""
      ],
      "execution_count": 0,
      "outputs": []
    }
  ]
}